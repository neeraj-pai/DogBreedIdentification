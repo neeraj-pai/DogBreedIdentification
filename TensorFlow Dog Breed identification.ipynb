{
 "cells": [
  {
   "cell_type": "markdown",
   "metadata": {},
   "source": [
    "Submission for https://www.kaggle.com/c/dog-breed-identification"
   ]
  },
  {
   "cell_type": "markdown",
   "metadata": {},
   "source": [
    "Some sections of code taken from - https://www.kaggle.com/kaggleslayer/simple-convolutional-n-network-with-tensorflow\n",
    "\n",
    "Transfer learning from - https://github.com/jiexunsee/New-Simple-Inception-Transfer-Learning"
   ]
  },
  {
   "cell_type": "markdown",
   "metadata": {},
   "source": [
    "# Reading Data files"
   ]
  },
  {
   "cell_type": "code",
   "execution_count": 2,
   "metadata": {
    "collapsed": false
   },
   "outputs": [
    {
     "data": {
      "text/plain": [
       "'1.0.0'"
      ]
     },
     "execution_count": 2,
     "metadata": {},
     "output_type": "execute_result"
    }
   ],
   "source": [
    "#We upload all the packages we need\n",
    "%matplotlib inline\n",
    "import matplotlib.pyplot as plt\n",
    "import tensorflow as tf\n",
    "import numpy as np\n",
    "import time\n",
    "from datetime import timedelta\n",
    "import math\n",
    "import os\n",
    "import scipy.misc\n",
    "from scipy.stats import itemfreq\n",
    "from random import sample\n",
    "import pickle\n",
    "from sklearn.metrics import confusion_matrix\n",
    "from sklearn.model_selection import train_test_split\n",
    "\n",
    "# Image manipulation.\n",
    "import PIL.Image\n",
    "from IPython.display import display\n",
    "#from resizeimage import resizeimage\n",
    "\n",
    "#Panda\n",
    "import pandas as pd\n",
    "\n",
    "#Open a Zip File\n",
    "from zipfile import ZipFile\n",
    "from io import BytesIO\n",
    "\n",
    "#check tensorflow version\n",
    "tf.__version__"
   ]
  },
  {
   "cell_type": "code",
   "execution_count": 6,
   "metadata": {
    "collapsed": true
   },
   "outputs": [],
   "source": [
    "# This function help to create  a pickle file gathering all the image from a zip folder\n",
    "###############\n",
    "def DataBase_creator(directory, nwigth, nheight, save_name):\n",
    "    #We choose the archive (zip file) + the new wigth and height for all the image which will be reshaped\n",
    "    \n",
    "    # Start-time used for printing time-usage below.\n",
    "    start_time = time.time()\n",
    "    \n",
    "    files = os.listdir(directory)\n",
    "    s = (len(files), nwigth, nheight,3) #nwigth x nheight = number of features because images are nwigth x nheight pixels\n",
    "    allImage = np.zeros(s)\n",
    "    \n",
    "    for i in range(1,len(files)):\n",
    "        filename = os.path.join(directory,files[i])\n",
    "        image = PIL.Image.open(filename) # open colour image\n",
    "        image = image.resize((nwigth, nheight))\n",
    "        image = np.array(image)\n",
    "        image = np.clip(image/255.0, 0.0, 1.0) #255 = max of the value of a pixel\n",
    "\n",
    "        allImage[i-1]=image\n",
    "    \n",
    "    #we save the newly created data base\n",
    "    pickle.dump(allImage, open( save_name + '.p', \"wb\" ) )\n",
    "    \n",
    "    # Ending time.\n",
    "    end_time = time.time()\n",
    "\n",
    "    # Difference between start and end-times.\n",
    "    time_dif = end_time - start_time\n",
    "\n",
    "    # Print the time-usage.\n",
    "    print(\"Time usage: \" + str(timedelta(seconds=int(round(time_dif)))))"
   ]
  },
  {
   "cell_type": "code",
   "execution_count": 7,
   "metadata": {
    "collapsed": false
   },
   "outputs": [
    {
     "name": "stdout",
     "output_type": "stream",
     "text": [
      "Time usage: 0:04:40\n",
      "Time usage: 0:05:06\n"
     ]
    }
   ],
   "source": [
    "image_resize = 60\n",
    "DataBase_creator(directory = \"train\", nwigth = image_resize, nheight = image_resize , save_name = \"train\")\n",
    "DataBase_creator(directory = \"test\", nwigth = image_resize, nheight = image_resize , save_name = \"test\")"
   ]
  },
  {
   "cell_type": "code",
   "execution_count": 8,
   "metadata": {
    "collapsed": false
   },
   "outputs": [
    {
     "data": {
      "text/plain": [
       "(10357, 60, 60, 3)"
      ]
     },
     "execution_count": 8,
     "metadata": {},
     "output_type": "execute_result"
    }
   ],
   "source": [
    "#load TRAIN\n",
    "train = pickle.load( open( \"train.p\", \"rb\" ) )\n",
    "train.shape\n",
    "#load TEST\n",
    "test = pickle.load( open( \"test.p\", \"rb\" ) )\n",
    "test.shape"
   ]
  },
  {
   "cell_type": "code",
   "execution_count": 9,
   "metadata": {
    "collapsed": false
   },
   "outputs": [
    {
     "data": {
      "text/html": [
       "<div>\n",
       "<table border=\"1\" class=\"dataframe\">\n",
       "  <thead>\n",
       "    <tr style=\"text-align: right;\">\n",
       "      <th></th>\n",
       "      <th>id</th>\n",
       "      <th>breed</th>\n",
       "    </tr>\n",
       "  </thead>\n",
       "  <tbody>\n",
       "    <tr>\n",
       "      <th>6071</th>\n",
       "      <td>9967da09835c2259a11196be6783c2f3</td>\n",
       "      <td>cocker_spaniel</td>\n",
       "    </tr>\n",
       "    <tr>\n",
       "      <th>7738</th>\n",
       "      <td>c1ca7ec9bb04a6b33e8780cf944d3184</td>\n",
       "      <td>miniature_pinscher</td>\n",
       "    </tr>\n",
       "    <tr>\n",
       "      <th>8884</th>\n",
       "      <td>dec0bb81afcfc4c35c7c6790975e5633</td>\n",
       "      <td>pomeranian</td>\n",
       "    </tr>\n",
       "    <tr>\n",
       "      <th>9649</th>\n",
       "      <td>f2d5c11258efb9e8de45a81a6982f8f2</td>\n",
       "      <td>irish_terrier</td>\n",
       "    </tr>\n",
       "    <tr>\n",
       "      <th>5897</th>\n",
       "      <td>94c4d59a7e93326c11db4bb1d0ca8a23</td>\n",
       "      <td>papillon</td>\n",
       "    </tr>\n",
       "  </tbody>\n",
       "</table>\n",
       "</div>"
      ],
      "text/plain": [
       "                                    id               breed\n",
       "6071  9967da09835c2259a11196be6783c2f3      cocker_spaniel\n",
       "7738  c1ca7ec9bb04a6b33e8780cf944d3184  miniature_pinscher\n",
       "8884  dec0bb81afcfc4c35c7c6790975e5633          pomeranian\n",
       "9649  f2d5c11258efb9e8de45a81a6982f8f2       irish_terrier\n",
       "5897  94c4d59a7e93326c11db4bb1d0ca8a23            papillon"
      ]
     },
     "execution_count": 9,
     "metadata": {},
     "output_type": "execute_result"
    }
   ],
   "source": [
    "df_train= pd.read_csv('labels.csv')\n",
    "df_train.sample(5)"
   ]
  },
  {
   "cell_type": "code",
   "execution_count": 10,
   "metadata": {
    "collapsed": false
   },
   "outputs": [
    {
     "data": {
      "image/png": "[encoded data removed]",
      "text/plain": [
       "<matplotlib.figure.Figure at 0x1a0c35c4908>"
      ]
     },
     "metadata": {},
     "output_type": "display_data"
    }
   ],
   "source": [
    "#let's check one image from the train data base\n",
    "lum_img = train[100,:,:,:]\n",
    "plt.imshow(lum_img)\n",
    "plt.show()"
   ]
  },
  {
   "cell_type": "code",
   "execution_count": 27,
   "metadata": {
    "collapsed": false
   },
   "outputs": [
    {
     "ename": "TypeError",
     "evalue": "unhashable type: 'numpy.ndarray'",
     "output_type": "error",
     "traceback": [
      "\u001b[1;31m---------------------------------------------------------------------------\u001b[0m",
      "\u001b[1;31mTypeError\u001b[0m                                 Traceback (most recent call last)",
      "\u001b[1;32m<ipython-input-27-6e13dd3dbd90>\u001b[0m in \u001b[0;36m<module>\u001b[1;34m()\u001b[0m\n\u001b[0;32m     20\u001b[0m \u001b[0mlabels_filtered_index\u001b[0m \u001b[1;33m=\u001b[0m \u001b[0mmain_breeds\u001b[0m\u001b[1;33m(\u001b[0m\u001b[0mlabels_raw\u001b[0m \u001b[1;33m=\u001b[0m \u001b[0mdf_train\u001b[0m\u001b[1;33m,\u001b[0m \u001b[0mNber_breeds\u001b[0m \u001b[1;33m=\u001b[0m \u001b[0mNber_of_breeds\u001b[0m\u001b[1;33m,\u001b[0m \u001b[0mall_breeds\u001b[0m\u001b[1;33m=\u001b[0m\u001b[1;34m'FALSE'\u001b[0m\u001b[1;33m)\u001b[0m\u001b[1;33m\u001b[0m\u001b[0m\n\u001b[0;32m     21\u001b[0m \u001b[0mlabels_filtered\u001b[0m \u001b[1;33m=\u001b[0m \u001b[0mdf_train\u001b[0m\u001b[1;33m.\u001b[0m\u001b[0miloc\u001b[0m\u001b[1;33m[\u001b[0m\u001b[0mlabels_filtered_index\u001b[0m\u001b[1;33m[\u001b[0m\u001b[1;36m0\u001b[0m\u001b[1;33m]\u001b[0m\u001b[1;33m,\u001b[0m\u001b[1;33m:\u001b[0m\u001b[1;33m]\u001b[0m\u001b[1;33m\u001b[0m\u001b[0m\n\u001b[1;32m---> 22\u001b[1;33m \u001b[0mtrain_filtered\u001b[0m \u001b[1;33m=\u001b[0m \u001b[0mtrain\u001b[0m\u001b[1;33m[\u001b[0m\u001b[0mlabels_filtered_index\u001b[0m\u001b[1;33m[\u001b[0m\u001b[1;36m0\u001b[0m\u001b[1;33m]\u001b[0m\u001b[1;33m,\u001b[0m\u001b[1;33m:\u001b[0m\u001b[1;33m,\u001b[0m\u001b[1;33m:\u001b[0m\u001b[1;33m,\u001b[0m\u001b[1;33m:\u001b[0m\u001b[1;33m]\u001b[0m\u001b[1;33m\u001b[0m\u001b[0m\n\u001b[0m\u001b[0;32m     23\u001b[0m \u001b[1;33m\u001b[0m\u001b[0m\n\u001b[0;32m     24\u001b[0m \u001b[0mprint\u001b[0m\u001b[1;33m(\u001b[0m\u001b[1;34m'- Number of images remaining after selecting the {0} main breeds : {1}'\u001b[0m\u001b[1;33m.\u001b[0m\u001b[0mformat\u001b[0m\u001b[1;33m(\u001b[0m\u001b[0mNber_of_breeds\u001b[0m\u001b[1;33m,\u001b[0m \u001b[0mlabels_filtered_index\u001b[0m\u001b[1;33m[\u001b[0m\u001b[1;36m0\u001b[0m\u001b[1;33m]\u001b[0m\u001b[1;33m.\u001b[0m\u001b[0mshape\u001b[0m\u001b[1;33m)\u001b[0m\u001b[1;33m)\u001b[0m\u001b[1;33m\u001b[0m\u001b[0m\n",
      "\u001b[1;31mTypeError\u001b[0m: unhashable type: 'numpy.ndarray'"
     ]
    }
   ],
   "source": [
    "Nber_of_breeds = 10\n",
    "\n",
    "#######Get the N most represented breeds########\n",
    "def main_breeds(labels_raw, Nber_breeds , all_breeds='TRUE'):\n",
    "    labels_freq_pd = itemfreq(df_train[\"breed\"])\n",
    "    labels_freq_pd = labels_freq_pd[labels_freq_pd[:, 1].argsort()[::-1]] #[::-1] ==> to sort in descending order\n",
    "    \n",
    "    if all_breeds == 'FALSE':\n",
    "        main_labels = labels_freq_pd[:,0][0:Nber_breeds]\n",
    "    else: \n",
    "        main_labels = labels_freq_pd[:,0][:]\n",
    "        \n",
    "    labels_raw_np = df_train[\"breed\"].as_matrix() #transform in numpy\n",
    "    labels_raw_np = labels_raw_np.reshape(labels_raw_np.shape[0],1)\n",
    "\n",
    "    labels_filtered_index = np.where(labels_raw_np == main_labels)\n",
    "    \n",
    "    return labels_filtered_index\n",
    "\n",
    "labels_filtered_index = main_breeds(labels_raw = df_train, Nber_breeds = Nber_of_breeds, all_breeds='FALSE')\n",
    "labels_filtered = df_train.iloc[labels_filtered_index[0],:]\n",
    "train_filtered = train[labels_filtered_index[0],:,:,:]\n",
    "\n",
    "print('- Number of images remaining after selecting the {0} main breeds : {1}'.format(Nber_of_breeds, labels_filtered_index[0].shape))\n",
    "print('- The shape of train_filtered dataset is : {0}'.format(train_filtered.shape))"
   ]
  },
  {
   "cell_type": "code",
   "execution_count": 16,
   "metadata": {
    "collapsed": false
   },
   "outputs": [
    {
     "data": {
      "image/png": "[encoded data removed]",
      "text/plain": [
       "<matplotlib.figure.Figure at 0x1a080247ba8>"
      ]
     },
     "metadata": {},
     "output_type": "display_data"
    }
   ],
   "source": [
    "#print(labels_filtered[90])\n",
    "lum_img = train_filtered[1,:,:,:]\n",
    "plt.imshow(lum_img)\n",
    "plt.show()"
   ]
  },
  {
   "cell_type": "code",
   "execution_count": 17,
   "metadata": {
    "collapsed": false
   },
   "outputs": [
    {
     "data": {
      "text/plain": [
       "(1141, 1)"
      ]
     },
     "execution_count": 17,
     "metadata": {},
     "output_type": "execute_result"
    }
   ],
   "source": [
    "#We select the labels from the N main breeds\n",
    "labels = labels_filtered[\"breed\"].as_matrix()\n",
    "labels = labels.reshape(labels.shape[0],1) #labels.shape[0] looks faster than using len(labels)\n",
    "labels.shape"
   ]
  },
  {
   "cell_type": "code",
   "execution_count": 18,
   "metadata": {
    "collapsed": true
   },
   "outputs": [],
   "source": [
    "#Function to breate one-hot labels\n",
    "def matrix_Bin(labels):\n",
    "    labels_bin=np.array([])\n",
    "\n",
    "    labels_name, labels0 = np.unique(labels, return_inverse=True)\n",
    "    labels0\n",
    "    \n",
    "    for _, i in enumerate(itemfreq(labels0)[:,0].astype(int)):\n",
    "        labels_bin0 = np.where(labels0 == itemfreq(labels0)[:,0][i], 1., 0.)\n",
    "        labels_bin0 = labels_bin0.reshape(1,labels_bin0.shape[0])\n",
    "\n",
    "        if (labels_bin.shape[0] == 0):\n",
    "            labels_bin = labels_bin0\n",
    "        else:\n",
    "            labels_bin = np.concatenate((labels_bin,labels_bin0 ),axis=0)\n",
    "\n",
    "    print(\"Nber SubVariables {0}\".format(itemfreq(labels0)[:,0].shape[0]))\n",
    "    labels_bin = labels_bin.transpose()\n",
    "    print(\"Shape : {0}\".format(labels_bin.shape))\n",
    "    \n",
    "    return labels_name, labels_bin"
   ]
  },
  {
   "cell_type": "code",
   "execution_count": 19,
   "metadata": {
    "collapsed": false
   },
   "outputs": [
    {
     "name": "stdout",
     "output_type": "stream",
     "text": [
      "Nber SubVariables 10\n",
      "Shape : (1141, 10)\n"
     ]
    },
    {
     "data": {
      "text/plain": [
       "array([[ 0.,  1.,  0.,  0.,  0.,  0.,  0.,  0.,  0.,  0.],\n",
       "       [ 0.,  0.,  0.,  0.,  0.,  0.,  0.,  0.,  1.,  0.],\n",
       "       [ 0.,  0.,  0.,  0.,  0.,  1.,  0.,  0.,  0.,  0.],\n",
       "       [ 0.,  0.,  0.,  0.,  0.,  0.,  0.,  0.,  0.,  1.],\n",
       "       [ 0.,  0.,  0.,  0.,  0.,  0.,  0.,  1.,  0.,  0.],\n",
       "       [ 0.,  0.,  0.,  0.,  0.,  0.,  0.,  0.,  1.,  0.],\n",
       "       [ 0.,  0.,  0.,  1.,  0.,  0.,  0.,  0.,  0.,  0.],\n",
       "       [ 0.,  0.,  0.,  1.,  0.,  0.,  0.,  0.,  0.,  0.],\n",
       "       [ 0.,  0.,  0.,  0.,  0.,  1.,  0.,  0.,  0.,  0.]])"
      ]
     },
     "execution_count": 19,
     "metadata": {},
     "output_type": "execute_result"
    }
   ],
   "source": [
    "labels_name, labels_bin = matrix_Bin(labels = labels)\n",
    "labels_bin[0:9]"
   ]
  },
  {
   "cell_type": "code",
   "execution_count": 20,
   "metadata": {
    "collapsed": false
   },
   "outputs": [
    {
     "name": "stdout",
     "output_type": "stream",
     "text": [
      "Breed 0 : afghan_hound\n",
      "Breed 1 : basenji\n",
      "Breed 2 : bernese_mountain_dog\n",
      "Breed 3 : entlebucher\n",
      "Breed 4 : great_pyrenees\n",
      "Breed 5 : maltese_dog\n",
      "Breed 6 : pomeranian\n",
      "Breed 7 : samoyed\n",
      "Breed 8 : scottish_deerhound\n",
      "Breed 9 : shih-tzu\n"
     ]
    }
   ],
   "source": [
    "for breed in range(len(labels_name)):\n",
    "    print('Breed {0} : {1}'.format(breed,labels_name[breed]))"
   ]
  },
  {
   "cell_type": "code",
   "execution_count": 21,
   "metadata": {
    "collapsed": false
   },
   "outputs": [
    {
     "data": {
      "text/plain": [
       "array([['basenji'],\n",
       "       ['scottish_deerhound'],\n",
       "       ['maltese_dog'],\n",
       "       ['shih-tzu'],\n",
       "       ['samoyed'],\n",
       "       ['scottish_deerhound'],\n",
       "       ['entlebucher'],\n",
       "       ['entlebucher'],\n",
       "       ['maltese_dog']], dtype=object)"
      ]
     },
     "execution_count": 21,
     "metadata": {},
     "output_type": "execute_result"
    }
   ],
   "source": [
    "labels[0:9]"
   ]
  },
  {
   "cell_type": "code",
   "execution_count": 22,
   "metadata": {
    "collapsed": false
   },
   "outputs": [
    {
     "data": {
      "text/plain": [
       "'maltese_dog'"
      ]
     },
     "execution_count": 22,
     "metadata": {},
     "output_type": "execute_result"
    }
   ],
   "source": [
    "#You can proceed backward with np.argmax to find the breed of an image\n",
    "labels_cls = np.argmax(labels_bin, axis=1)\n",
    "labels_name[labels_cls[2]]"
   ]
  },
  {
   "cell_type": "code",
   "execution_count": 23,
   "metadata": {
    "collapsed": false
   },
   "outputs": [
    {
     "name": "stdout",
     "output_type": "stream",
     "text": [
      "shih-tzu\n"
     ]
    },
    {
     "data": {
      "image/png": "[encoded data removed]",
      "text/plain": [
       "<matplotlib.figure.Figure at 0x1a0800ff748>"
      ]
     },
     "metadata": {},
     "output_type": "display_data"
    }
   ],
   "source": [
    "i=11\n",
    "print(labels_name[labels_cls[i]])\n",
    "lum_img = train_filtered[i,:,:,:]\n",
    "plt.imshow(lum_img)\n",
    "plt.show()"
   ]
  },
  {
   "cell_type": "code",
   "execution_count": 24,
   "metadata": {
    "collapsed": false
   },
   "outputs": [
    {
     "data": {
      "text/plain": [
       "(798, 60, 60, 3)"
      ]
     },
     "execution_count": 24,
     "metadata": {},
     "output_type": "execute_result"
    }
   ],
   "source": [
    "num_validation = 0.30\n",
    "X_train, X_validation, y_train, y_validation = train_test_split(train_filtered, labels_bin, test_size=num_validation, random_state=6)\n",
    "X_train.shape"
   ]
  },
  {
   "cell_type": "code",
   "execution_count": 26,
   "metadata": {
    "collapsed": false
   },
   "outputs": [
    {
     "data": {
      "text/plain": [
       "array([6, 4, 7, 2, 6, 9, 1, 1, 8], dtype=int64)"
      ]
     },
     "execution_count": 26,
     "metadata": {},
     "output_type": "execute_result"
    }
   ],
   "source": [
    "#from the one-hot database we can find the breed.\n",
    "df_validation_toPred_cls = np.argmax(y_validation, axis=1)\n",
    "df_validation_toPred_cls[0:9]"
   ]
  },
  {
   "cell_type": "code",
   "execution_count": 27,
   "metadata": {
    "collapsed": false
   },
   "outputs": [
    {
     "name": "stdout",
     "output_type": "stream",
     "text": [
      "samoyed\n",
      "7\n"
     ]
    },
    {
     "data": {
      "image/png": "[encoded data removed]",
      "text/plain": [
       "<matplotlib.figure.Figure at 0x1a0800b2da0>"
      ]
     },
     "metadata": {},
     "output_type": "display_data"
    }
   ],
   "source": [
    "i=2\n",
    "print(labels_name[df_validation_toPred_cls[i]])\n",
    "print(df_validation_toPred_cls[i])\n",
    "lum_img = X_validation[i,:,:,:]\n",
    "plt.imshow(lum_img)\n",
    "plt.show()"
   ]
  },
  {
   "cell_type": "markdown",
   "metadata": {
    "collapsed": true
   },
   "source": [
    "# Coming to Transfer Learning, Producing bottlenecks from Inception V3 architecture"
   ]
  },
  {
   "cell_type": "code",
   "execution_count": 1,
   "metadata": {
    "collapsed": true
   },
   "outputs": [],
   "source": [
    "#dependent modules\n",
    "import argparse\n",
    "from datetime import datetime\n",
    "import hashlib\n",
    "import os.path\n",
    "import random\n",
    "import re\n",
    "import struct\n",
    "import sys\n",
    "import tarfile\n",
    "\n",
    "import numpy as np\n",
    "from six.moves import urllib\n",
    "import tensorflow as tf\n",
    "\n",
    "from tensorflow.python.framework import graph_util\n",
    "from tensorflow.python.framework import tensor_shape\n",
    "from tensorflow.python.platform import gfile\n",
    "from tensorflow.python.util import compat"
   ]
  },
  {
   "cell_type": "code",
   "execution_count": 2,
   "metadata": {
    "collapsed": true
   },
   "outputs": [],
   "source": [
    "DATA_URL = 'http://download.tensorflow.org/models/image/imagenet/inception-2015-12-05.tgz'\n",
    "BOTTLENECK_TENSOR_NAME = 'pool_3/_reshape:0'\n",
    "BOTTLENECK_TENSOR_SIZE = 2048\n",
    "MODEL_INPUT_WIDTH = 60\n",
    "MODEL_INPUT_HEIGHT = 60\n",
    "MODEL_INPUT_DEPTH = 3\n",
    "JPEG_DATA_TENSOR_NAME = 'DecodeJpeg/contents:0'\n",
    "RESIZED_INPUT_TENSOR_NAME = 'ResizeBilinear:0'\n",
    "MAX_NUM_IMAGES_PER_CLASS = 2 ** 27 - 1  # ~134M"
   ]
  },
  {
   "cell_type": "code",
   "execution_count": 3,
   "metadata": {
    "collapsed": true
   },
   "outputs": [],
   "source": [
    "model_dir = 'inception'\n",
    "image_dir = 'test'\n",
    "bottleneck_dir = 'bottlenecks'\n"
   ]
  },
  {
   "cell_type": "code",
   "execution_count": 4,
   "metadata": {
    "collapsed": true
   },
   "outputs": [],
   "source": [
    "def create_bottleneck_file(sess, jpeg_data_tensor, bottleneck_tensor):\n",
    "\n",
    "\tfile_list = []\n",
    "\tfile_glob = os.path.join(image_dir, '*.jpg')\n",
    "\tfile_list.extend(gfile.Glob(file_glob))\n",
    "\n",
    "\tfor image in file_list:\n",
    "\t\t# getting the name of the training image\n",
    "\t\timage_name = str(image).split('/')[-1]\n",
    "\t\tpath = bottleneck_dir+'/'+image_name+'.txt'\n",
    "\t\tprint('Creating bottleneck at ' + path)\n",
    "\n",
    "\t\timage_data = gfile.FastGFile(image, 'rb').read()\n",
    "\t\tbottleneck_values = run_bottleneck_on_image(sess, image_data, jpeg_data_tensor, bottleneck_tensor)\n",
    "\t\tbottleneck_string = ','.join(str(x) for x in bottleneck_values)\n",
    "\t\twith open(path, 'w') as bottleneck_file:\n",
    "\t\t\tbottleneck_file.write(bottleneck_string)"
   ]
  },
  {
   "cell_type": "code",
   "execution_count": 5,
   "metadata": {
    "collapsed": true
   },
   "outputs": [],
   "source": [
    "def run_bottleneck_on_image(sess, image_data, image_data_tensor,\n",
    "                            bottleneck_tensor):\n",
    "\tbottleneck_values = sess.run(bottleneck_tensor, {image_data_tensor: image_data})\n",
    "\tbottleneck_values = np.squeeze(bottleneck_values)\n",
    "\treturn bottleneck_values"
   ]
  },
  {
   "cell_type": "code",
   "execution_count": 6,
   "metadata": {
    "collapsed": true
   },
   "outputs": [],
   "source": [
    "def maybe_download_and_extract():\n",
    "\tdest_directory = model_dir\n",
    "\tif not os.path.exists(dest_directory):\n",
    "\t\tos.makedirs(dest_directory)\n",
    "\tfilename = DATA_URL.split('/')[-1]\n",
    "\tfilepath = os.path.join(dest_directory, filename)\n",
    "\tif not os.path.exists(filepath):\n",
    "\n",
    "\t\tdef _progress(count, block_size, total_size):\n",
    "\t\t\tsys.stdout.write('\\r>> Downloading %s %.1f%%' %(filename, float(count * block_size) / float(total_size) * 100.0))\n",
    "\t\t\tsys.stdout.flush()\n",
    "\n",
    "\t\tfilepath, _ = urllib.request.urlretrieve(DATA_URL, filepath, _progress)\n",
    "\t\tprint()\n",
    "\t\tstatinfo = os.stat(filepath)\n",
    "\t\tprint('Successfully downloaded', filename, statinfo.st_size, 'bytes.')\n",
    "\ttarfile.open(filepath, 'r:gz').extractall(dest_directory)"
   ]
  },
  {
   "cell_type": "code",
   "execution_count": 7,
   "metadata": {
    "collapsed": true
   },
   "outputs": [],
   "source": [
    "def create_inception_graph():\n",
    "\twith tf.Session() as sess:\n",
    "\t\tmodel_filename = os.path.join(model_dir, 'classify_image_graph_def.pb')\n",
    "\t\twith gfile.FastGFile(model_filename, 'rb') as f:\n",
    "\t\t\tgraph_def = tf.GraphDef()\n",
    "\t\t\tgraph_def.ParseFromString(f.read())\n",
    "\t\t\tbottleneck_tensor, jpeg_data_tensor, resized_input_tensor = (tf.import_graph_def(graph_def, name='', return_elements=[BOTTLENECK_TENSOR_NAME, JPEG_DATA_TENSOR_NAME, RESIZED_INPUT_TENSOR_NAME]))\n",
    "\treturn sess.graph, bottleneck_tensor, jpeg_data_tensor, resized_input_tensor"
   ]
  },
  {
   "cell_type": "markdown",
   "metadata": {
    "collapsed": true
   },
   "source": [
    "# Create Pickle from Bottleneck files"
   ]
  },
  {
   "cell_type": "code",
   "execution_count": 34,
   "metadata": {
    "collapsed": false
   },
   "outputs": [],
   "source": [
    "import csv\n",
    "\n",
    "# This function help to create  a pickle file gathering all the image from a zip folder\n",
    "###############\n",
    "def BottleNeck_DataBase_creator(directory, save_name):\n",
    "    #We choose the archive (zip file) and create a pickle from this\n",
    "    \n",
    "    # Start-time used for printing time-usage below.\n",
    "    start_time = time.time()\n",
    "    \n",
    "    files = os.listdir(directory)\n",
    "    BottleNeck = dict()\n",
    "    #s = (len(files), 2048) #nwigth x nheight = number of features because images are nwigth x nheight pixels\n",
    "    #BottleNeck = np.zeros(s)\n",
    "    \n",
    "    for i in range(0,len(files)):\n",
    "        filename = os.path.join(directory,files[i])\n",
    "        filename_index, file_extension = os.path.splitext(files[i])\n",
    "        filename_index, file_extension = os.path.splitext(filename_index)\n",
    "        with open(filename, \"r\") as f_obj:\n",
    "            reader = csv.reader(f_obj, delimiter=',')\n",
    "            for row in reader:\n",
    "                #BottleNeck[i-1]=row                               \n",
    "                BottleNeck[filename_index] = row                \n",
    "        \n",
    "    #we save the newly created data base\n",
    "    pickle.dump(BottleNeck, open( save_name + '.p', \"wb\" ) )\n",
    "    \n",
    "    # Ending time.\n",
    "    end_time = time.time()\n",
    "\n",
    "    # Difference between start and end-times.\n",
    "    time_dif = end_time - start_time\n",
    "\n",
    "    # Print the time-usage.\n",
    "    print(\"Time usage: \" + str(timedelta(seconds=int(round(time_dif)))))"
   ]
  },
  {
   "cell_type": "code",
   "execution_count": 35,
   "metadata": {
    "collapsed": false
   },
   "outputs": [
    {
     "name": "stdout",
     "output_type": "stream",
     "text": [
      "Time usage: 0:03:35\n",
      "Time usage: 0:03:38\n"
     ]
    }
   ],
   "source": [
    "BottleNeck_DataBase_creator(directory = \"bottlenecks_train\", save_name = \"train_pickle_dict\")\n",
    "BottleNeck_DataBase_creator(directory = \"bottlenecks_test\", save_name = \"test_pickle_dict\")"
   ]
  },
  {
   "cell_type": "code",
   "execution_count": 14,
   "metadata": {
    "collapsed": true
   },
   "outputs": [],
   "source": [
    "#Load Pickle from Bottleneck files"
   ]
  },
  {
   "cell_type": "code",
   "execution_count": 22,
   "metadata": {
    "collapsed": false
   },
   "outputs": [
    {
     "data": {
      "text/plain": [
       "10221"
      ]
     },
     "execution_count": 22,
     "metadata": {},
     "output_type": "execute_result"
    }
   ],
   "source": [
    "#load TRAIN\n",
    "train = pickle.load( open( \"train_pickle_dict_1.p\", \"rb\" ) )\n",
    "len(train)\n"
   ]
  },
  {
   "cell_type": "code",
   "execution_count": 24,
   "metadata": {
    "collapsed": false
   },
   "outputs": [
    {
     "data": {
      "text/plain": [
       "['0.339992',\n",
       " '0.155',\n",
       " '0.0421116',\n",
       " '0.0423845',\n",
       " '0.502316',\n",
       " '0.241643',\n",
       " '0.290671',\n",
       " '0.786114',\n",
       " '0.135645',\n",
       " '0.144513',\n",
       " '0.109932',\n",
       " '0.211737',\n",
       " '0.369045',\n",
       " '0.349537',\n",
       " '0.216336',\n",
       " '0.227412',\n",
       " '0.272537',\n",
       " '0.127705',\n",
       " '0.424248',\n",
       " '0.733229',\n",
       " '0.166247',\n",
       " '0.446477',\n",
       " '0.0',\n",
       " '0.0960633',\n",
       " '0.150189',\n",
       " '0.377505',\n",
       " '0.00578085',\n",
       " '0.427619',\n",
       " '0.125406',\n",
       " '0.0759075',\n",
       " '0.107187',\n",
       " '0.180813',\n",
       " '0.814588',\n",
       " '0.22347',\n",
       " '0.362608',\n",
       " '0.284427',\n",
       " '0.0171566',\n",
       " '0.398424',\n",
       " '0.596374',\n",
       " '0.122363',\n",
       " '0.24972',\n",
       " '0.218952',\n",
       " '0.165174',\n",
       " '0.0458843',\n",
       " '0.109945',\n",
       " '0.153517',\n",
       " '0.437623',\n",
       " '0.449986',\n",
       " '0.174879',\n",
       " '0.235408',\n",
       " '0.326641',\n",
       " '0.14355',\n",
       " '0.266939',\n",
       " '0.109949',\n",
       " '0.159721',\n",
       " '0.0388361',\n",
       " '0.498999',\n",
       " '0.106248',\n",
       " '0.234594',\n",
       " '0.0447566',\n",
       " '0.486798',\n",
       " '0.102161',\n",
       " '0.0899958',\n",
       " '0.389224',\n",
       " '0.160255',\n",
       " '0.540711',\n",
       " '0.398177',\n",
       " '0.364209',\n",
       " '0.288219',\n",
       " '0.556759',\n",
       " '0.185951',\n",
       " '0.0619',\n",
       " '0.270577',\n",
       " '0.269126',\n",
       " '0.626945',\n",
       " '0.203356',\n",
       " '0.0256913',\n",
       " '0.0443157',\n",
       " '0.323944',\n",
       " '0.109903',\n",
       " '0.148625',\n",
       " '0.600088',\n",
       " '0.317402',\n",
       " '0.133108',\n",
       " '0.267542',\n",
       " '0.242102',\n",
       " '0.129546',\n",
       " '0.0296094',\n",
       " '0.10647',\n",
       " '0.134586',\n",
       " '0.374853',\n",
       " '0.418538',\n",
       " '0.270299',\n",
       " '0.454694',\n",
       " '0.195613',\n",
       " '0.24395',\n",
       " '0.594484',\n",
       " '0.110646',\n",
       " '0.845335',\n",
       " '0.129048',\n",
       " '1.51182',\n",
       " '0.237376',\n",
       " '0.165203',\n",
       " '0.300455',\n",
       " '0.174072',\n",
       " '0.22626',\n",
       " '0.0543621',\n",
       " '0.187936',\n",
       " '0.362743',\n",
       " '0.0567803',\n",
       " '1.10538',\n",
       " '0.198525',\n",
       " '0.342087',\n",
       " '0.0186368',\n",
       " '0.317008',\n",
       " '0.126621',\n",
       " '0.00806946',\n",
       " '0.134533',\n",
       " '0.0551664',\n",
       " '0.411033',\n",
       " '0.166297',\n",
       " '0.140175',\n",
       " '0.118539',\n",
       " '0.0894408',\n",
       " '0.151058',\n",
       " '0.0550609',\n",
       " '0.0431776',\n",
       " '0.192345',\n",
       " '0.147356',\n",
       " '0.290341',\n",
       " '0.286522',\n",
       " '0.213391',\n",
       " '0.0107746',\n",
       " '0.22477',\n",
       " '0.157229',\n",
       " '0.0610444',\n",
       " '0.0794014',\n",
       " '0.378096',\n",
       " '0.064329',\n",
       " '0.100041',\n",
       " '0.307073',\n",
       " '0.169485',\n",
       " '0.405227',\n",
       " '0.361483',\n",
       " '0.336139',\n",
       " '0.167563',\n",
       " '0.0760837',\n",
       " '0.343374',\n",
       " '0.324572',\n",
       " '0.0878874',\n",
       " '0.41304',\n",
       " '0.419009',\n",
       " '0.0363049',\n",
       " '0.0361399',\n",
       " '0.539076',\n",
       " '0.000931153',\n",
       " '0.264181',\n",
       " '0.441119',\n",
       " '0.183131',\n",
       " '0.147521',\n",
       " '0.149367',\n",
       " '0.195306',\n",
       " '0.090006',\n",
       " '0.12793',\n",
       " '0.105968',\n",
       " '0.117224',\n",
       " '0.0640453',\n",
       " '0.0997389',\n",
       " '0.622093',\n",
       " '0.193564',\n",
       " '0.306856',\n",
       " '0.260724',\n",
       " '0.21769',\n",
       " '0.571396',\n",
       " '0.346104',\n",
       " '0.326814',\n",
       " '0.315645',\n",
       " '0.475593',\n",
       " '0.0438268',\n",
       " '0.219043',\n",
       " '0.0962507',\n",
       " '0.371122',\n",
       " '0.26136',\n",
       " '0.439274',\n",
       " '0.294694',\n",
       " '0.0205557',\n",
       " '0.309622',\n",
       " '0.546401',\n",
       " '0.215279',\n",
       " '0.230183',\n",
       " '0.17147',\n",
       " '0.148002',\n",
       " '0.482564',\n",
       " '0.104672',\n",
       " '0.086979',\n",
       " '0.389692',\n",
       " '0.164542',\n",
       " '0.140714',\n",
       " '0.0483191',\n",
       " '0.151636',\n",
       " '0.0779866',\n",
       " '0.262067',\n",
       " '0.387313',\n",
       " '0.0270074',\n",
       " '0.0617393',\n",
       " '0.26905',\n",
       " '0.32902',\n",
       " '0.0952073',\n",
       " '0.38798',\n",
       " '0.307396',\n",
       " '0.420949',\n",
       " '0.0581002',\n",
       " '0.253565',\n",
       " '0.185609',\n",
       " '0.492745',\n",
       " '0.0242655',\n",
       " '0.520654',\n",
       " '0.227785',\n",
       " '0.461289',\n",
       " '0.853664',\n",
       " '0.17481',\n",
       " '0.037592',\n",
       " '0.0875749',\n",
       " '0.190043',\n",
       " '0.290334',\n",
       " '0.183541',\n",
       " '0.736944',\n",
       " '0.139698',\n",
       " '0.256059',\n",
       " '0.467927',\n",
       " '0.792298',\n",
       " '0.18636',\n",
       " '0.165359',\n",
       " '0.713224',\n",
       " '0.334671',\n",
       " '0.167259',\n",
       " '0.115977',\n",
       " '0.155816',\n",
       " '0.439804',\n",
       " '0.317583',\n",
       " '0.117666',\n",
       " '0.0727996',\n",
       " '0.0459507',\n",
       " '0.406066',\n",
       " '0.043453',\n",
       " '0.0474679',\n",
       " '0.394973',\n",
       " '0.185541',\n",
       " '0.216764',\n",
       " '0.183347',\n",
       " '0.957731',\n",
       " '0.124405',\n",
       " '0.52803',\n",
       " '0.816952',\n",
       " '0.271241',\n",
       " '0.69361',\n",
       " '0.315449',\n",
       " '0.0557232',\n",
       " '0.204788',\n",
       " '0.213727',\n",
       " '0.0969283',\n",
       " '0.204468',\n",
       " '0.0462091',\n",
       " '0.0232072',\n",
       " '0.100592',\n",
       " '0.363388',\n",
       " '0.0540508',\n",
       " '0.35813',\n",
       " '0.0849492',\n",
       " '0.178811',\n",
       " '0.793092',\n",
       " '0.679107',\n",
       " '0.0912216',\n",
       " '0.0214203',\n",
       " '0.0469208',\n",
       " '0.38972',\n",
       " '0.975893',\n",
       " '0.163056',\n",
       " '0.369881',\n",
       " '0.293731',\n",
       " '0.0965069',\n",
       " '0.154231',\n",
       " '0.0924966',\n",
       " '0.150649',\n",
       " '0.382215',\n",
       " '0.472033',\n",
       " '0.525547',\n",
       " '0.507285',\n",
       " '0.136197',\n",
       " '0.414036',\n",
       " '0.30262',\n",
       " '0.0474298',\n",
       " '0.0327803',\n",
       " '0.0420735',\n",
       " '0.00513248',\n",
       " '0.197115',\n",
       " '0.125492',\n",
       " '0.0556981',\n",
       " '0.563639',\n",
       " '0.249563',\n",
       " '0.211132',\n",
       " '0.265931',\n",
       " '0.0781234',\n",
       " '0.534457',\n",
       " '0.236259',\n",
       " '0.130545',\n",
       " '0.470062',\n",
       " '0.327943',\n",
       " '0.0159442',\n",
       " '0.354986',\n",
       " '0.128333',\n",
       " '0.167372',\n",
       " '0.169439',\n",
       " '0.446884',\n",
       " '0.0559079',\n",
       " '0.204358',\n",
       " '0.18877',\n",
       " '0.250666',\n",
       " '0.070169',\n",
       " '0.0580595',\n",
       " '0.0493455',\n",
       " '0.0858723',\n",
       " '0.0',\n",
       " '0.165983',\n",
       " '0.547985',\n",
       " '0.205704',\n",
       " '0.209762',\n",
       " '0.521117',\n",
       " '0.00743227',\n",
       " '0.10041',\n",
       " '0.201698',\n",
       " '0.000878179',\n",
       " '0.232012',\n",
       " '0.588778',\n",
       " '0.275581',\n",
       " '0.0714328',\n",
       " '0.240806',\n",
       " '0.160371',\n",
       " '0.0112425',\n",
       " '0.500625',\n",
       " '0.0647997',\n",
       " '0.0700446',\n",
       " '0.140357',\n",
       " '0.140666',\n",
       " '0.0124989',\n",
       " '0.240641',\n",
       " '0.155621',\n",
       " '0.0',\n",
       " '0.164496',\n",
       " '0.00901692',\n",
       " '0.361584',\n",
       " '0.00389874',\n",
       " '0.146168',\n",
       " '0.0922314',\n",
       " '0.0737004',\n",
       " '0.0604091',\n",
       " '0.050743',\n",
       " '0.0594203',\n",
       " '0.292558',\n",
       " '0.0992999',\n",
       " '0.133041',\n",
       " '0.364588',\n",
       " '0.102559',\n",
       " '0.0630095',\n",
       " '0.103766',\n",
       " '0.00424015',\n",
       " '0.267095',\n",
       " '0.0652375',\n",
       " '0.109076',\n",
       " '0.203731',\n",
       " '0.00606321',\n",
       " '0.0190162',\n",
       " '0.0168991',\n",
       " '0.052898',\n",
       " '0.0152856',\n",
       " '0.213288',\n",
       " '0.0703469',\n",
       " '0.731004',\n",
       " '0.0894359',\n",
       " '0.133726',\n",
       " '0.0',\n",
       " '0.243601',\n",
       " '0.0527747',\n",
       " '0.707649',\n",
       " '0.451697',\n",
       " '0.156074',\n",
       " '0.292504',\n",
       " '0.169035',\n",
       " '0.010203',\n",
       " '0.0783228',\n",
       " '0.163163',\n",
       " '0.13103',\n",
       " '0.102328',\n",
       " '0.0172427',\n",
       " '0.0619304',\n",
       " '0.135667',\n",
       " '0.238118',\n",
       " '0.143873',\n",
       " '0.286849',\n",
       " '0.0550287',\n",
       " '0.0327356',\n",
       " '0.0398883',\n",
       " '0.0147015',\n",
       " '0.15451',\n",
       " '0.0335394',\n",
       " '0.764387',\n",
       " '0.217183',\n",
       " '0.475515',\n",
       " '0.083897',\n",
       " '0.0367761',\n",
       " '0.0395885',\n",
       " '0.0461365',\n",
       " '0.125172',\n",
       " '0.177346',\n",
       " '0.00384173',\n",
       " '0.317413',\n",
       " '0.0',\n",
       " '0.858565',\n",
       " '0.0335894',\n",
       " '0.646439',\n",
       " '0.0127726',\n",
       " '0.106811',\n",
       " '0.111538',\n",
       " '0.23063',\n",
       " '0.0185666',\n",
       " '0.322618',\n",
       " '0.126171',\n",
       " '0.0300289',\n",
       " '0.110011',\n",
       " '0.275303',\n",
       " '0.0642048',\n",
       " '0.166814',\n",
       " '0.017069',\n",
       " '0.117954',\n",
       " '0.0862245',\n",
       " '0.208089',\n",
       " '0.269475',\n",
       " '0.824402',\n",
       " '0.270337',\n",
       " '0.292699',\n",
       " '0.129189',\n",
       " '0.0803421',\n",
       " '1.07984',\n",
       " '0.0336903',\n",
       " '0.193861',\n",
       " '0.0417625',\n",
       " '0.319945',\n",
       " '1.35381',\n",
       " '0.0394727',\n",
       " '0.108288',\n",
       " '0.00416153',\n",
       " '0.145135',\n",
       " '0.0320204',\n",
       " '0.0202387',\n",
       " '0.195118',\n",
       " '0.0304566',\n",
       " '0.00633913',\n",
       " '0.0805911',\n",
       " '0.462371',\n",
       " '0.163838',\n",
       " '0.296613',\n",
       " '0.227795',\n",
       " '0.0323144',\n",
       " '0.0629111',\n",
       " '0.25258',\n",
       " '0.375639',\n",
       " '0.00575051',\n",
       " '0.0336327',\n",
       " '0.122963',\n",
       " '0.515677',\n",
       " '0.163977',\n",
       " '0.146703',\n",
       " '0.13105',\n",
       " '0.38569',\n",
       " '0.278085',\n",
       " '0.107808',\n",
       " '0.166188',\n",
       " '0.0802484',\n",
       " '0.00552632',\n",
       " '0.0608047',\n",
       " '0.00503944',\n",
       " '0.058514',\n",
       " '0.0166056',\n",
       " '0.0317444',\n",
       " '0.193432',\n",
       " '0.00522577',\n",
       " '0.163343',\n",
       " '0.22157',\n",
       " '0.0510594',\n",
       " '0.0919939',\n",
       " '0.0970057',\n",
       " '0.508679',\n",
       " '0.266245',\n",
       " '0.560851',\n",
       " '1.33289',\n",
       " '0.00968364',\n",
       " '0.318655',\n",
       " '0.244144',\n",
       " '0.129617',\n",
       " '0.0321521',\n",
       " '0.107552',\n",
       " '0.0937464',\n",
       " '0.29419',\n",
       " '0.140081',\n",
       " '0.129014',\n",
       " '0.104703',\n",
       " '0.0501659',\n",
       " '0.266995',\n",
       " '0.0559674',\n",
       " '0.659023',\n",
       " '0.20788',\n",
       " '0.344836',\n",
       " '0.482796',\n",
       " '0.320047',\n",
       " '0.076334',\n",
       " '0.0213425',\n",
       " '0.124923',\n",
       " '0.111421',\n",
       " '0.176954',\n",
       " '0.0112099',\n",
       " '0.0134253',\n",
       " '0.00659641',\n",
       " '0.245507',\n",
       " '0.473055',\n",
       " '0.202907',\n",
       " '0.0602058',\n",
       " '0.159611',\n",
       " '0.200267',\n",
       " '0.0657559',\n",
       " '0.0226192',\n",
       " '0.118487',\n",
       " '0.044673',\n",
       " '0.238633',\n",
       " '0.156385',\n",
       " '0.0463782',\n",
       " '0.467683',\n",
       " '0.114635',\n",
       " '0.0473435',\n",
       " '0.247273',\n",
       " '0.255786',\n",
       " '0.122999',\n",
       " '0.00283735',\n",
       " '0.000369939',\n",
       " '0.339755',\n",
       " '0.0119434',\n",
       " '0.137162',\n",
       " '0.0268141',\n",
       " '0.162825',\n",
       " '0.214192',\n",
       " '0.223924',\n",
       " '0.0252723',\n",
       " '0.155146',\n",
       " '0.080534',\n",
       " '0.591447',\n",
       " '0.319539',\n",
       " '0.141369',\n",
       " '0.0941826',\n",
       " '0.00342026',\n",
       " '0.0479409',\n",
       " '0.145496',\n",
       " '0.100995',\n",
       " '0.0430173',\n",
       " '0.0332061',\n",
       " '0.119634',\n",
       " '0.0899541',\n",
       " '0.0607954',\n",
       " '0.3201',\n",
       " '0.073615',\n",
       " '0.0450021',\n",
       " '0.17431',\n",
       " '0.362031',\n",
       " '1.16489',\n",
       " '0.0',\n",
       " '0.132476',\n",
       " '0.218764',\n",
       " '0.129642',\n",
       " '0.073408',\n",
       " '0.123126',\n",
       " '0.0593025',\n",
       " '0.0214994',\n",
       " '0.291266',\n",
       " '0.1026',\n",
       " '0.277591',\n",
       " '0.970979',\n",
       " '0.0825474',\n",
       " '0.0349371',\n",
       " '0.125447',\n",
       " '0.00488074',\n",
       " '0.0502037',\n",
       " '0.0505544',\n",
       " '0.207548',\n",
       " '0.00564604',\n",
       " '0.258332',\n",
       " '0.272645',\n",
       " '0.0191085',\n",
       " '0.131636',\n",
       " '0.0560691',\n",
       " '0.0982068',\n",
       " '0.963825',\n",
       " '0.349729',\n",
       " '0.00606233',\n",
       " '0.639652',\n",
       " '0.40142',\n",
       " '0.0738758',\n",
       " '1.07713',\n",
       " '0.142071',\n",
       " '0.0594865',\n",
       " '0.0297191',\n",
       " '0.0872276',\n",
       " '0.0989367',\n",
       " '0.339186',\n",
       " '0.320059',\n",
       " '0.560608',\n",
       " '0.000730242',\n",
       " '0.225104',\n",
       " '0.118139',\n",
       " '0.0892161',\n",
       " '0.23424',\n",
       " '0.0404246',\n",
       " '0.0102992',\n",
       " '0.0259471',\n",
       " '0.0417898',\n",
       " '0.0417089',\n",
       " '0.0427547',\n",
       " '0.112551',\n",
       " '0.0103324',\n",
       " '0.00637127',\n",
       " '0.0',\n",
       " '0.11811',\n",
       " '0.088734',\n",
       " '0.102069',\n",
       " '0.0607555',\n",
       " '0.280809',\n",
       " '0.188849',\n",
       " '0.0526846',\n",
       " '0.288834',\n",
       " '0.580525',\n",
       " '0.864987',\n",
       " '0.220101',\n",
       " '0.2804',\n",
       " '0.140748',\n",
       " '0.137332',\n",
       " '0.0915883',\n",
       " '0.085224',\n",
       " '0.312312',\n",
       " '0.15681',\n",
       " '0.33737',\n",
       " '0.425626',\n",
       " '0.249454',\n",
       " '0.343175',\n",
       " '0.252759',\n",
       " '0.0395472',\n",
       " '0.566034',\n",
       " '0.200475',\n",
       " '0.0567577',\n",
       " '0.0477',\n",
       " '0.00312331',\n",
       " '0.0204547',\n",
       " '0.290954',\n",
       " '0.0719619',\n",
       " '0.567972',\n",
       " '0.0156405',\n",
       " '0.0281377',\n",
       " '0.207256',\n",
       " '0.133426',\n",
       " '0.04391',\n",
       " '0.808488',\n",
       " '0.128093',\n",
       " '0.0220844',\n",
       " '0.186145',\n",
       " '0.0761927',\n",
       " '0.989782',\n",
       " '0.20009',\n",
       " '0.00557561',\n",
       " '0.131655',\n",
       " '0.0170275',\n",
       " '0.0223798',\n",
       " '0.145938',\n",
       " '0.230659',\n",
       " '0.0297795',\n",
       " '0.341637',\n",
       " '1.19282',\n",
       " '0.179044',\n",
       " '0.0130558',\n",
       " '0.0823481',\n",
       " '1.0928',\n",
       " '0.293356',\n",
       " '0.0747861',\n",
       " '0.944792',\n",
       " '0.0',\n",
       " '0.00713792',\n",
       " '0.070216',\n",
       " '0.0387123',\n",
       " '0.184721',\n",
       " '0.276591',\n",
       " '0.427111',\n",
       " '0.155386',\n",
       " '0.0584953',\n",
       " '0.0139734',\n",
       " '0.0190681',\n",
       " '0.691857',\n",
       " '0.137773',\n",
       " '0.0740409',\n",
       " '0.213913',\n",
       " '0.129906',\n",
       " '0.0157997',\n",
       " '0.0358856',\n",
       " '0.0646338',\n",
       " '0.191113',\n",
       " '0.0782247',\n",
       " '1.1293',\n",
       " '0.220457',\n",
       " '0.118783',\n",
       " '0.0751314',\n",
       " '0.294955',\n",
       " '0.604207',\n",
       " '0.12656',\n",
       " '0.595293',\n",
       " '0.0',\n",
       " '0.00737987',\n",
       " '0.0605545',\n",
       " '0.174194',\n",
       " '0.0208238',\n",
       " '0.178115',\n",
       " '0.0266262',\n",
       " '0.0650662',\n",
       " '0.586981',\n",
       " '0.162727',\n",
       " '0.00420406',\n",
       " '0.0305767',\n",
       " '0.0210696',\n",
       " '0.0997193',\n",
       " '0.0720759',\n",
       " '0.207293',\n",
       " '0.0479889',\n",
       " '0.192322',\n",
       " '0.107217',\n",
       " '0.273617',\n",
       " '0.244245',\n",
       " '0.110003',\n",
       " '0.787536',\n",
       " '0.0977098',\n",
       " '0.167911',\n",
       " '0.105527',\n",
       " '0.385467',\n",
       " '0.392087',\n",
       " '0.591297',\n",
       " '0.0100392',\n",
       " '0.917856',\n",
       " '0.266124',\n",
       " '0.0404098',\n",
       " '0.0986271',\n",
       " '0.274387',\n",
       " '0.186011',\n",
       " '0.114096',\n",
       " '0.272253',\n",
       " '0.364876',\n",
       " '0.587206',\n",
       " '0.219595',\n",
       " '0.0295821',\n",
       " '0.140697',\n",
       " '0.0116957',\n",
       " '0.117367',\n",
       " '0.117303',\n",
       " '0.145771',\n",
       " '0.530768',\n",
       " '0.145872',\n",
       " '1.44707',\n",
       " '0.442611',\n",
       " '0.0529135',\n",
       " '0.0829092',\n",
       " '0.0363616',\n",
       " '0.145127',\n",
       " '0.0249501',\n",
       " '0.152594',\n",
       " '0.947778',\n",
       " '0.0867107',\n",
       " '0.162313',\n",
       " '0.137355',\n",
       " '0.867941',\n",
       " '0.0518981',\n",
       " '0.0381709',\n",
       " '0.204442',\n",
       " '0.212206',\n",
       " '0.0405414',\n",
       " '0.294034',\n",
       " '0.0264168',\n",
       " '0.133793',\n",
       " '0.473039',\n",
       " '0.121841',\n",
       " '0.571614',\n",
       " '0.123337',\n",
       " '0.280242',\n",
       " '0.0177459',\n",
       " '0.0248373',\n",
       " '0.0815964',\n",
       " '0.123562',\n",
       " '0.194698',\n",
       " '0.118856',\n",
       " '0.0676465',\n",
       " '0.173613',\n",
       " '0.140172',\n",
       " '0.605263',\n",
       " '0.927309',\n",
       " '0.0710625',\n",
       " '0.0609122',\n",
       " '0.0934529',\n",
       " '0.154023',\n",
       " '0.432935',\n",
       " '0.03442',\n",
       " '0.218806',\n",
       " '0.179231',\n",
       " '0.261202',\n",
       " '0.0455996',\n",
       " '0.0921241',\n",
       " '0.0228839',\n",
       " '0.129561',\n",
       " '0.140567',\n",
       " '0.437832',\n",
       " '0.385796',\n",
       " '0.182032',\n",
       " '0.0908016',\n",
       " '0.065777',\n",
       " '0.473625',\n",
       " '0.354755',\n",
       " '0.0155551',\n",
       " '1.80336',\n",
       " '0.180644',\n",
       " '0.0657208',\n",
       " '0.189928',\n",
       " '0.0944413',\n",
       " '0.102703',\n",
       " '0.55543',\n",
       " '0.111086',\n",
       " '0.321714',\n",
       " '0.443477',\n",
       " '0.167413',\n",
       " '0.172434',\n",
       " '0.489942',\n",
       " '0.0148454',\n",
       " '0.075812',\n",
       " '0.172187',\n",
       " '0.0154007',\n",
       " '0.17084',\n",
       " '0.120416',\n",
       " '0.0203251',\n",
       " '0.00664139',\n",
       " '0.0353641',\n",
       " '0.137054',\n",
       " '0.0560045',\n",
       " '0.204676',\n",
       " '0.10848',\n",
       " '0.164872',\n",
       " '0.0977394',\n",
       " '0.0299437',\n",
       " '0.640924',\n",
       " '0.535201',\n",
       " '0.176745',\n",
       " '0.0165411',\n",
       " '0.0867437',\n",
       " '0.0556307',\n",
       " '0.0473022',\n",
       " '0.0953055',\n",
       " '0.371257',\n",
       " '0.438946',\n",
       " '0.291157',\n",
       " '0.0',\n",
       " '0.0721661',\n",
       " '0.00361779',\n",
       " '0.195487',\n",
       " '0.00776648',\n",
       " '0.00446786',\n",
       " '0.0291269',\n",
       " '0.0428338',\n",
       " '0.262247',\n",
       " '0.0555333',\n",
       " '0.0365124',\n",
       " '0.196003',\n",
       " '0.63425',\n",
       " '0.0391972',\n",
       " '0.078538',\n",
       " '0.0714425',\n",
       " '0.46302',\n",
       " '0.0949567',\n",
       " '0.460339',\n",
       " '0.271098',\n",
       " '0.410618',\n",
       " '0.345024',\n",
       " '0.226155',\n",
       " '0.0373334',\n",
       " '0.0876169',\n",
       " '0.0137789',\n",
       " '0.0404547',\n",
       " '0.493229',\n",
       " '0.00860201',\n",
       " '0.0963805',\n",
       " '0.0852369',\n",
       " '0.302906',\n",
       " '0.235759',\n",
       " '0.160263',\n",
       " '0.023707',\n",
       " '0.144995',\n",
       " '0.440261',\n",
       " '0.0940527',\n",
       " '0.0395624',\n",
       " '0.255344',\n",
       " '0.00499763',\n",
       " '0.0840443',\n",
       " '0.407666',\n",
       " '0.878512',\n",
       " '0.0870572',\n",
       " '0.29286',\n",
       " '0.689054',\n",
       " '0.102259',\n",
       " '0.109252',\n",
       " '0.0259396',\n",
       " '0.0751824',\n",
       " '0.00988673',\n",
       " '0.131627',\n",
       " '0.0845867',\n",
       " '0.501267',\n",
       " '0.105263',\n",
       " '0.0393902',\n",
       " '0.00579549',\n",
       " '0.535044',\n",
       " '0.206588',\n",
       " '0.142218',\n",
       " '0.481003',\n",
       " '1.42589',\n",
       " '1.12265',\n",
       " '0.0543873',\n",
       " '0.142247',\n",
       " '0.280315',\n",
       " '0.689139',\n",
       " '0.256383',\n",
       " '0.0613857',\n",
       " '0.224756',\n",
       " '0.0206924',\n",
       " '0.148864',\n",
       " '0.00625958',\n",
       " '0.402721',\n",
       " '0.159169',\n",
       " '0.0326038',\n",
       " '0.0470073',\n",
       " '0.0188778',\n",
       " '0.0575676',\n",
       " '0.0730368',\n",
       " '0.0865634',\n",
       " '0.123876',\n",
       " '0.100606',\n",
       " '0.125496',\n",
       " '0.624885',\n",
       " '0.584486',\n",
       " '0.479654',\n",
       " '0.0905234',\n",
       " '0.0462825',\n",
       " '0.0523672',\n",
       " '0.0910027',\n",
       " '0.0705249',\n",
       " '0.334924',\n",
       " '0.154166',\n",
       " '0.0428716',\n",
       " '0.0293625',\n",
       " '0.0645719',\n",
       " '0.0',\n",
       " '0.603892',\n",
       " '0.111649',\n",
       " '0.172777',\n",
       " '0.0965127',\n",
       " '1.20221',\n",
       " '0.420897',\n",
       " '0.0113443',\n",
       " '0.00940417',\n",
       " '0.120161',\n",
       " '0.18905',\n",
       " '0.0887436',\n",
       " '0.8112',\n",
       " '0.160612',\n",
       " '0.0685716',\n",
       " '0.520795',\n",
       " '0.12261',\n",
       " '0.0486791',\n",
       " '0.0771018',\n",
       " '0.661004',\n",
       " '0.120509',\n",
       " '0.125771',\n",
       " '0.00239247',\n",
       " '0.0522633',\n",
       " '0.163024',\n",
       " '0.389437',\n",
       " '0.0184202',\n",
       " '0.0516995',\n",
       " '0.353631',\n",
       " '0.0785412',\n",
       " '0.24382',\n",
       " '0.0895854',\n",
       " '0.0360475',\n",
       " '0.0459506',\n",
       " '0.14934',\n",
       " '0.105929',\n",
       " ...]"
      ]
     },
     "execution_count": 24,
     "metadata": {},
     "output_type": "execute_result"
    }
   ],
   "source": []
  },
  {
   "cell_type": "code",
   "execution_count": 12,
   "metadata": {
    "collapsed": false
   },
   "outputs": [
    {
     "data": {
      "text/plain": [
       "10356"
      ]
     },
     "execution_count": 12,
     "metadata": {},
     "output_type": "execute_result"
    }
   ],
   "source": [
    "#load TEST\n",
    "test = pickle.load( open( \"test_pickle_dict.p\", \"rb\" ) )\n",
    "len(test)"
   ]
  },
  {
   "cell_type": "code",
   "execution_count": 3,
   "metadata": {
    "collapsed": false
   },
   "outputs": [
    {
     "data": {
      "text/html": [
       "<div>\n",
       "<table border=\"1\" class=\"dataframe\">\n",
       "  <thead>\n",
       "    <tr style=\"text-align: right;\">\n",
       "      <th></th>\n",
       "      <th>id</th>\n",
       "      <th>breed</th>\n",
       "    </tr>\n",
       "  </thead>\n",
       "  <tbody>\n",
       "    <tr>\n",
       "      <th>1947</th>\n",
       "      <td>2feceb226784f92c130cb91acf8241b2</td>\n",
       "      <td>pembroke</td>\n",
       "    </tr>\n",
       "    <tr>\n",
       "      <th>7017</th>\n",
       "      <td>aff9e4c944e3e7b24b8166590d7ca95c</td>\n",
       "      <td>bouvier_des_flandres</td>\n",
       "    </tr>\n",
       "  </tbody>\n",
       "</table>\n",
       "</div>"
      ],
      "text/plain": [
       "                                    id                 breed\n",
       "1947  2feceb226784f92c130cb91acf8241b2              pembroke\n",
       "7017  aff9e4c944e3e7b24b8166590d7ca95c  bouvier_des_flandres"
      ]
     },
     "execution_count": 3,
     "metadata": {},
     "output_type": "execute_result"
    }
   ],
   "source": [
    "#Load labels file\n",
    "df_train= pd.read_csv('labels.csv')\n",
    "df_train.sample(2)"
   ]
  },
  {
   "cell_type": "code",
   "execution_count": 4,
   "metadata": {
    "collapsed": false
   },
   "outputs": [
    {
     "data": {
      "text/html": [
       "<div>\n",
       "<table border=\"1\" class=\"dataframe\">\n",
       "  <thead>\n",
       "    <tr style=\"text-align: right;\">\n",
       "      <th></th>\n",
       "      <th>id</th>\n",
       "      <th>breed</th>\n",
       "    </tr>\n",
       "  </thead>\n",
       "  <tbody>\n",
       "    <tr>\n",
       "      <th>2</th>\n",
       "      <td>001cdf01b096e06d78e9e5112d419397</td>\n",
       "      <td>pekinese</td>\n",
       "    </tr>\n",
       "  </tbody>\n",
       "</table>\n",
       "</div>"
      ],
      "text/plain": [
       "                                 id     breed\n",
       "2  001cdf01b096e06d78e9e5112d419397  pekinese"
      ]
     },
     "execution_count": 4,
     "metadata": {},
     "output_type": "execute_result"
    }
   ],
   "source": [
    "df_train.iloc[[2]]"
   ]
  },
  {
   "cell_type": "code",
   "execution_count": 5,
   "metadata": {
    "collapsed": false
   },
   "outputs": [],
   "source": [
    "key_train = df_train.iloc[2]['id']"
   ]
  },
  {
   "cell_type": "code",
   "execution_count": 6,
   "metadata": {
    "collapsed": false
   },
   "outputs": [
    {
     "data": {
      "text/plain": [
       "'001cdf01b096e06d78e9e5112d419397'"
      ]
     },
     "execution_count": 6,
     "metadata": {},
     "output_type": "execute_result"
    }
   ],
   "source": [
    "key_train"
   ]
  },
  {
   "cell_type": "code",
   "execution_count": 7,
   "metadata": {
    "collapsed": false
   },
   "outputs": [],
   "source": [
    "#So now we have a train_pickle_dict which contains a dict and a label for breed in df_train."
   ]
  },
  {
   "cell_type": "code",
   "execution_count": 28,
   "metadata": {
    "collapsed": false
   },
   "outputs": [],
   "source": [
    "#Create labels for breeds\n",
    "\n",
    "#######Get the N most represented breeds########\n",
    "def main_breeds(labels_raw, all_breeds='TRUE'):\n",
    "    labels_freq_pd = itemfreq(df_train[\"breed\"])\n",
    "    labels_freq_pd = labels_freq_pd[labels_freq_pd[:, 1].argsort()[::-1]] #[::-1] ==> to sort in descending order\n",
    "    \n",
    "    main_labels = labels_freq_pd[:,0][:]\n",
    "        \n",
    "    labels_raw_np = df_train[\"breed\"].as_matrix() #transform in numpy\n",
    "    labels_raw_np = labels_raw_np.reshape(labels_raw_np.shape[0],1)\n",
    "\n",
    "    labels_filtered_index = np.where(labels_raw_np == main_labels)\n",
    "    \n",
    "    return labels_filtered_index\n",
    "\n",
    "labels_filtered_index = main_breeds(labels_raw = df_train, all_breeds='True')\n",
    "#labels_filtered = df_train.iloc[labels_filtered_index[0],:]\n",
    "#train_filtered = train[labels_filtered_index[0],:,:,:]\n",
    "\n",
    "#print('- Number of images remaining after selecting the main breeds : {1}'.format(labels_filtered_index[0].shape))\n",
    "#print('- The shape of train_filtered dataset is : {0}'.format(train_filtered.shape))"
   ]
  },
  {
   "cell_type": "code",
   "execution_count": 29,
   "metadata": {
    "collapsed": false
   },
   "outputs": [
    {
     "data": {
      "text/plain": [
       "array([    0,     1,     2, ..., 10219, 10220, 10221], dtype=int64)"
      ]
     },
     "execution_count": 29,
     "metadata": {},
     "output_type": "execute_result"
    }
   ],
   "source": [
    "labels_filtered_index[0]"
   ]
  },
  {
   "cell_type": "code",
   "execution_count": 30,
   "metadata": {
    "collapsed": false
   },
   "outputs": [
    {
     "data": {
      "text/plain": [
       "array([40, 72, 93, ..., 10, 18, 53], dtype=int64)"
      ]
     },
     "execution_count": 30,
     "metadata": {},
     "output_type": "execute_result"
    }
   ],
   "source": [
    "labels_filtered_index[1]"
   ]
  },
  {
   "cell_type": "code",
   "execution_count": 31,
   "metadata": {
    "collapsed": false
   },
   "outputs": [
    {
     "data": {
      "text/plain": [
       "2"
      ]
     },
     "execution_count": 31,
     "metadata": {},
     "output_type": "execute_result"
    }
   ],
   "source": [
    "#labels_filtered_index contains index of labels for training file and corresponding label for that index based on frequency, \n",
    "#total 120 labels"
   ]
  },
  {
   "cell_type": "code",
   "execution_count": 36,
   "metadata": {
    "collapsed": false
   },
   "outputs": [
    {
     "data": {
      "text/plain": [
       "119"
      ]
     },
     "execution_count": 36,
     "metadata": {},
     "output_type": "execute_result"
    }
   ],
   "source": [
    "max(labels_filtered_index[1])"
   ]
  },
  {
   "cell_type": "code",
   "execution_count": 8,
   "metadata": {
    "collapsed": true
   },
   "outputs": [],
   "source": [
    "#Function to breate one-hot labels\n",
    "def matrix_Bin(labels):\n",
    "    labels_bin=np.array([])\n",
    "\n",
    "    labels_name, labels0 = np.unique(labels, return_inverse=True)\n",
    "    labels0\n",
    "    \n",
    "    for _, i in enumerate(itemfreq(labels0)[:,0].astype(int)):\n",
    "        labels_bin0 = np.where(labels0 == itemfreq(labels0)[:,0][i], 1., 0.)\n",
    "        labels_bin0 = labels_bin0.reshape(1,labels_bin0.shape[0])\n",
    "\n",
    "        if (labels_bin.shape[0] == 0):\n",
    "            labels_bin = labels_bin0\n",
    "        else:\n",
    "            labels_bin = np.concatenate((labels_bin,labels_bin0 ),axis=0)\n",
    "\n",
    "    print(\"Nber SubVariables {0}\".format(itemfreq(labels0)[:,0].shape[0]))\n",
    "    labels_bin = labels_bin.transpose()\n",
    "    print(\"Shape : {0}\".format(labels_bin.shape))\n",
    "    \n",
    "    return labels_name, labels_bin"
   ]
  },
  {
   "cell_type": "code",
   "execution_count": 11,
   "metadata": {
    "collapsed": false
   },
   "outputs": [
    {
     "name": "stdout",
     "output_type": "stream",
     "text": [
      "Nber SubVariables 120\n",
      "Shape : (10222, 120)\n"
     ]
    },
    {
     "data": {
      "text/plain": [
       "array([[ 0.,  0.,  0., ...,  0.,  0.,  0.],\n",
       "       [ 0.,  0.,  0., ...,  0.,  0.,  0.],\n",
       "       [ 0.,  0.,  0., ...,  0.,  0.,  0.],\n",
       "       ..., \n",
       "       [ 0.,  0.,  0., ...,  0.,  0.,  0.],\n",
       "       [ 0.,  0.,  0., ...,  0.,  0.,  0.],\n",
       "       [ 0.,  0.,  0., ...,  0.,  0.,  0.]])"
      ]
     },
     "execution_count": 11,
     "metadata": {},
     "output_type": "execute_result"
    }
   ],
   "source": [
    "labels = df_train[\"breed\"].as_matrix()\n",
    "filenames = df_train[\"id\"].as_matrix()\n",
    "labels = labels.reshape(labels.shape[0],1) #labels.shape[0] looks faster than using len(labels)\n",
    "labels.shape\n",
    "labels_name, labels_bin = matrix_Bin(labels = labels)\n",
    "#Labels name contains name of breed for each label from 1 to 120\n",
    "#labels bin contains array with one shot encoded vectors for labels\n",
    "#filenames contain list of filenames for corresponding label which can be used to extract feature\n",
    "labels_bin[0:9]"
   ]
  },
  {
   "cell_type": "code",
   "execution_count": 10,
   "metadata": {
    "collapsed": false
   },
   "outputs": [
    {
     "name": "stdout",
     "output_type": "stream",
     "text": [
      "Breed 0 : affenpinscher\n",
      "Breed 1 : afghan_hound\n",
      "Breed 2 : african_hunting_dog\n",
      "Breed 3 : airedale\n",
      "Breed 4 : american_staffordshire_terrier\n",
      "Breed 5 : appenzeller\n",
      "Breed 6 : australian_terrier\n",
      "Breed 7 : basenji\n",
      "Breed 8 : basset\n",
      "Breed 9 : beagle\n",
      "Breed 10 : bedlington_terrier\n",
      "Breed 11 : bernese_mountain_dog\n",
      "Breed 12 : black-and-tan_coonhound\n",
      "Breed 13 : blenheim_spaniel\n",
      "Breed 14 : bloodhound\n",
      "Breed 15 : bluetick\n",
      "Breed 16 : border_collie\n",
      "Breed 17 : border_terrier\n",
      "Breed 18 : borzoi\n",
      "Breed 19 : boston_bull\n",
      "Breed 20 : bouvier_des_flandres\n",
      "Breed 21 : boxer\n",
      "Breed 22 : brabancon_griffon\n",
      "Breed 23 : briard\n",
      "Breed 24 : brittany_spaniel\n",
      "Breed 25 : bull_mastiff\n",
      "Breed 26 : cairn\n",
      "Breed 27 : cardigan\n",
      "Breed 28 : chesapeake_bay_retriever\n",
      "Breed 29 : chihuahua\n",
      "Breed 30 : chow\n",
      "Breed 31 : clumber\n",
      "Breed 32 : cocker_spaniel\n",
      "Breed 33 : collie\n",
      "Breed 34 : curly-coated_retriever\n",
      "Breed 35 : dandie_dinmont\n",
      "Breed 36 : dhole\n",
      "Breed 37 : dingo\n",
      "Breed 38 : doberman\n",
      "Breed 39 : english_foxhound\n",
      "Breed 40 : english_setter\n",
      "Breed 41 : english_springer\n",
      "Breed 42 : entlebucher\n",
      "Breed 43 : eskimo_dog\n",
      "Breed 44 : flat-coated_retriever\n",
      "Breed 45 : french_bulldog\n",
      "Breed 46 : german_shepherd\n",
      "Breed 47 : german_short-haired_pointer\n",
      "Breed 48 : giant_schnauzer\n",
      "Breed 49 : golden_retriever\n",
      "Breed 50 : gordon_setter\n",
      "Breed 51 : great_dane\n",
      "Breed 52 : great_pyrenees\n",
      "Breed 53 : greater_swiss_mountain_dog\n",
      "Breed 54 : groenendael\n",
      "Breed 55 : ibizan_hound\n",
      "Breed 56 : irish_setter\n",
      "Breed 57 : irish_terrier\n",
      "Breed 58 : irish_water_spaniel\n",
      "Breed 59 : irish_wolfhound\n",
      "Breed 60 : italian_greyhound\n",
      "Breed 61 : japanese_spaniel\n",
      "Breed 62 : keeshond\n",
      "Breed 63 : kelpie\n",
      "Breed 64 : kerry_blue_terrier\n",
      "Breed 65 : komondor\n",
      "Breed 66 : kuvasz\n",
      "Breed 67 : labrador_retriever\n",
      "Breed 68 : lakeland_terrier\n",
      "Breed 69 : leonberg\n",
      "Breed 70 : lhasa\n",
      "Breed 71 : malamute\n",
      "Breed 72 : malinois\n",
      "Breed 73 : maltese_dog\n",
      "Breed 74 : mexican_hairless\n",
      "Breed 75 : miniature_pinscher\n",
      "Breed 76 : miniature_poodle\n",
      "Breed 77 : miniature_schnauzer\n",
      "Breed 78 : newfoundland\n",
      "Breed 79 : norfolk_terrier\n",
      "Breed 80 : norwegian_elkhound\n",
      "Breed 81 : norwich_terrier\n",
      "Breed 82 : old_english_sheepdog\n",
      "Breed 83 : otterhound\n",
      "Breed 84 : papillon\n",
      "Breed 85 : pekinese\n",
      "Breed 86 : pembroke\n",
      "Breed 87 : pomeranian\n",
      "Breed 88 : pug\n",
      "Breed 89 : redbone\n",
      "Breed 90 : rhodesian_ridgeback\n",
      "Breed 91 : rottweiler\n",
      "Breed 92 : saint_bernard\n",
      "Breed 93 : saluki\n",
      "Breed 94 : samoyed\n",
      "Breed 95 : schipperke\n",
      "Breed 96 : scotch_terrier\n",
      "Breed 97 : scottish_deerhound\n",
      "Breed 98 : sealyham_terrier\n",
      "Breed 99 : shetland_sheepdog\n",
      "Breed 100 : shih-tzu\n",
      "Breed 101 : siberian_husky\n",
      "Breed 102 : silky_terrier\n",
      "Breed 103 : soft-coated_wheaten_terrier\n",
      "Breed 104 : staffordshire_bullterrier\n",
      "Breed 105 : standard_poodle\n",
      "Breed 106 : standard_schnauzer\n",
      "Breed 107 : sussex_spaniel\n",
      "Breed 108 : tibetan_mastiff\n",
      "Breed 109 : tibetan_terrier\n",
      "Breed 110 : toy_poodle\n",
      "Breed 111 : toy_terrier\n",
      "Breed 112 : vizsla\n",
      "Breed 113 : walker_hound\n",
      "Breed 114 : weimaraner\n",
      "Breed 115 : welsh_springer_spaniel\n",
      "Breed 116 : west_highland_white_terrier\n",
      "Breed 117 : whippet\n",
      "Breed 118 : wire-haired_fox_terrier\n",
      "Breed 119 : yorkshire_terrier\n"
     ]
    }
   ],
   "source": [
    "#One shot variables created for 120 breeds\n",
    "for breed in range(len(labels_name)):\n",
    "    print('Breed {0} : {1}'.format(breed,labels_name[breed]))"
   ]
  },
  {
   "cell_type": "code",
   "execution_count": 41,
   "metadata": {
    "collapsed": false
   },
   "outputs": [
    {
     "data": {
      "text/plain": [
       "'pekinese'"
      ]
     },
     "execution_count": 41,
     "metadata": {},
     "output_type": "execute_result"
    }
   ],
   "source": [
    "#You can proceed backward with np.argmax to find the breed of an image\n",
    "labels_cls = np.argmax(labels_bin, axis=1)\n",
    "labels_name[labels_cls[2]]"
   ]
  },
  {
   "cell_type": "code",
   "execution_count": 12,
   "metadata": {
    "collapsed": false
   },
   "outputs": [],
   "source": [
    "#we save the labels, filenames, one shot encoded labels to pickles\n",
    "pickle.dump(labels_name, open( 'id_to_labelnames.p', \"wb\" ) )\n",
    "pickle.dump(filenames, open( 'filenames.p', \"wb\" ) )\n",
    "pickle.dump(labels_bin, open( 'one_shot_encoded_labels.p', \"wb\" ) )"
   ]
  },
  {
   "cell_type": "code",
   "execution_count": null,
   "metadata": {
    "collapsed": true
   },
   "outputs": [],
   "source": []
  }
 ],
 "metadata": {
  "kernelspec": {
   "display_name": "Python 3",
   "language": "python",
   "name": "python3"
  },
  "language_info": {
   "codemirror_mode": {
    "name": "ipython",
    "version": 3
   },
   "file_extension": ".py",
   "mimetype": "text/x-python",
   "name": "python",
   "nbconvert_exporter": "python",
   "pygments_lexer": "ipython3",
   "version": "3.5.3"
  }
 },
 "nbformat": 4,
 "nbformat_minor": 2
}
